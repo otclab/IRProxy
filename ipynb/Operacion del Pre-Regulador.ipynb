{
 "cells": [
  {
   "cell_type": "markdown",
   "metadata": {},
   "source": [
    "### Operación del <i>Pre-Regulador</i>\n",
    "\n",
    "El <i>Pre-Regulador</i> esta ideado para trabajar en lazo abierto, con un ciclo de trabajo constante, capaz de suministrar la corriente máxima con la tensión mínima requerida por el (post)regulador lineal.<br>\n",
    "\n",
    "Como la corriente de carga del pre-regulador es variable, al menos inicialmente tiene un valor muy bajo, la tensión a su salida es elevada, sobrepasando los límites de trabajo del (post)regulador lineal, por cual se debio incluir el diodo zener DZ1 no previsto inicialmente.   \n",
    "\n",
    "Si se aplica el mismo ciclo de trabajo desde el arranque, la corriente en el MOSFET y la inductancia tienen un sobreimpulso inicial varias veces la corriente necesaria, este fenómeno se produce por el retardo del condensador de salida para alcanzar su tensión de trabajo, intervalo en el cual la tensión sobre la inductancia en la etapa de no conducción (del MOSFET) es menor a la de equilibrio, por lo cual no transfiere toda la energía ganada (en la etapa de conducción), almacenando progresiva- mente energía y aumentando su corriente. Este fenómeno se aminora calibrando la resistencia R1 de manera que la tensión inicial que genera sea aproximada a la tensión de trabajo, su valor es hallado experimentalmente, por cuanto la corriente de carga inicial es la suma del diodo zener (DZ1), la del regulador (IC1) y prinicpalmente del microcontrolador (IC2).<br>"
   ]
  },
  {
   "cell_type": "markdown",
   "metadata": {},
   "source": [
    "### Ecuaciones de Operación del <i>Pre-Regulador</i>\n",
    "Las ecuaciones ecuaciones que gobiernan el <i>pre-regulador</i> son :<br> <br> \n",
    "$$\\begin{align}\n",
    "  L\\cdot\\frac{di_L}{dt} &= V_{cc}      \\\\\n",
    "  C\\cdot\\frac{dv_C}{dt} &= -I_{load} \n",
    "\\end{align}\\Bigg\\}\\quad\\text{MOSFET conduciendo}\n",
    "$$\n",
    "\n",
    "$$\\begin{align}\n",
    "  L\\cdot\\frac{di_L}{dt} &= -V_D - v_C    \\\\\n",
    "  C\\cdot\\frac{dv_C}{dt} &= i_L- I_{load}\n",
    "\\end{align}\\Bigg\\}\\quad\\text{MOSFET apagado}\n",
    "$$\n",
    "\n",
    "La solución cuando el MOSFET esta <i>conduciendo</i> son :<br>\n",
    "$$\\begin{align}\n",
    "  i_{L(peak)}[k-1] &= i_L[k-1] + \\frac{V_{cc}}{L}\\cdot T_{on}     \\\\\n",
    "  v_{C(dip)}[k-1] &= v_C[k-1] - \\frac{I_{load} }{C}\\cdot T_{on}\n",
    "\\end{align}\n",
    "$$\n",
    "\n",
    "La solución cuando el MOSFET esta <i>apagado</i> son :<br>\n",
    "$$\\begin{align}\n",
    "  A[k-1] &= \\frac{1}{2}(v_{C(dip)}[k-1] + V_D) - j \\frac{L}{2}(i_{L(peak)}[k-1] - I_{load}) \\\\\n",
    "  v_C[k] &= \\mathcal{Re}\\{A[k-1]\\cdot e^{j\\frac{T_{off}[k-1]}{LC}}\\} - V_D \\\\\n",
    "  i_L[k] &= \\mathcal{Im}\\{A[k-1]\\cdot e^{j\\frac{T_{off}[k-1]}{LC}}\\} + I_{load} \n",
    "\\end{align}\n",
    "$$\n",
    "\n"
   ]
  },
  {
   "cell_type": "markdown",
   "metadata": {},
   "source": []
  },
  {
   "cell_type": "markdown",
   "metadata": {},
   "source": [
    "### NCO\n",
    "El <i>Pre-Regulador</i> es controlado por el NCO del microcontrolador operado en el modo <i>Pulse Frequency</i>. En este modo la la selección del tiempo de conducción es limitada ($T_{on}$), existiendo mucho mayor margen para la selección para el valor del periodo ($T_{on} + T_{off}$)."
   ]
  },
  {
   "cell_type": "code",
   "execution_count": 1,
   "metadata": {
    "collapsed": false
   },
   "outputs": [
    {
     "name": "stdout",
     "output_type": "stream",
     "text": [
      "Populating the interactive namespace from numpy and matplotlib\n"
     ]
    }
   ],
   "source": [
    "# Los módulos de soporte son los estándar, ...\n",
    "%pylab inline\n",
    "import matplotlib.pyplot as plt\n",
    "from scipy.signal import *\n",
    "import collections\n",
    "\n",
    "# Cambia el tamaño de los gráficos, para ocupar todo el ancho de la página:\n",
    "from pylab import rcParams\n",
    "rcParams['figure.figsize'] = 16, 3\n"
   ]
  },
  {
   "cell_type": "code",
   "execution_count": null,
   "metadata": {
    "collapsed": true
   },
   "outputs": [],
   "source": []
  },
  {
   "cell_type": "markdown",
   "metadata": {},
   "source": [
    "#### Apendice : Solución del Sistema de ecuaciones con el MOSFET apagado\n",
    "$$\\begin{align}\n",
    "  L\\cdot\\frac{di_L}{dt} &= -V_D - v_C     \\tag{A.1} \\\\ \n",
    "  C\\cdot\\frac{dv_C}{dt} &= i_L- I_{load}  \\tag{A.2} \n",
    "\\end{align}\n",
    "$$\n",
    "\n",
    "Derivando la segunda ecuación (A.2) y eliminando $\\frac{d}{dt}i_L$ se obtiene : \n",
    "$$LC\\cdot\\frac{d}{dt}^2v_C + v_C = -V_D  \\tag{A.3}$$"
   ]
  },
  {
   "cell_type": "markdown",
   "metadata": {},
   "source": [
    "cuya solución general es : <br>\n",
    "$$v_C = A\\cdot e^{j\\cdot \\frac{t}{LC}} + B\\cdot e^{-j\\cdot \\frac{t}{LC}} - V_D     \\tag{A.4}$$\n",
    "\n",
    "Como $v_C$ es real, no es dificíl deducir que $A$ y $B$ son conjugados : <br>\n",
    "$$v_C = A\\cdot e^{j\\cdot \\frac{t}{LC}} + A^*\\cdot e^{-j\\cdot \\frac{t}{LC}} - V_D     \\tag{A.5a}$$\n",
    "$$v_C = 2\\cdot\\mathcal{Re}\\{A\\cdot e^{j\\cdot \\frac{t}{LC}}\\} - V_D                       \\tag{A.5b}$$\n",
    "\n",
    "\n",
    "reemplazando la A.4 en A.2 : <br>\n",
    "$$i_L = j\\cdot \\frac{A}{L}\\cdot e^{j\\cdot \\frac{t}{LC}} -j\\cdot \\frac{A^*}{L}\\cdot e^{-j\\cdot \\frac{t}{LC}} + I_{load}  \\tag{A.6a}$$\n",
    "$$i_L = \\frac{2}{L}\\cdot\\mathcal{Im}\\{A\\cdot e^{j\\cdot \\frac{t}{LC}}\\} + I_{load}                       \\tag{A.6b}$$\n"
   ]
  },
  {
   "cell_type": "markdown",
   "metadata": {},
   "source": [
    "La constante A puede hallarse de las condiciones iniciales para t = 0 en las ecuaciones A.5b y A.6b :<br>\n",
    "$$\\begin{align}\n",
    "  v_C(0) &= 2\\cdot\\mathcal{Re}\\{A\\} - v_D  \\\\\n",
    "  i_L(0) &= \\frac{2}{L}\\cdot\\mathcal{Im}\\{A\\} + I_{load}\n",
    "\\end{align}\n",
    "$$\n",
    "\n",
    "de donde se deduce :<br>\n",
    "$$A = \\frac{1}{2}(v_C(0) + v_D) + j\\frac{L}{2}(i_L(0) - I_{load})$$\n",
    "\n",
    "$$A = \\sqrt{(v_C(0) + v_D)^2 + (i_L(0) - I_{load})^2}\\cdot e^{j\\cdot \\arctan\\Big(L\\cdot\\frac{i_L(0) - I_{load}}{v_C(0) + v_D}\\Big)}$$"
   ]
  },
  {
   "cell_type": "markdown",
   "metadata": {},
   "source": [
    "finalmente :<br>\n",
    "$$\\begin{align}\n",
    "  v_C(t) = \\sqrt{(v_C(0) + v_D)^2 + (i_L(0) - I_{load})^2}\\cdot \\cos\\Big( \\frac{t}{LC}+ \\arctan\\Big(L\\cdot\\frac{i_L(0) - I_{load}}{v_C(0) + v_D}\\Big)\\Big) - V_D \\\\\n",
    "  i_L(t) = \\sqrt{(v_C(0) + v_D)^2 + (i_L(0) - I_{load})^2}\\cdot \\sin\\Big( \\frac{t}{LC}+ \\arctan\\Big(L\\cdot\\frac{i_L(0) - I_{load}}{v_C(0) + v_D}\\Big)\\Big) + I_{load}\n",
    "\\end{align}$$\n"
   ]
  },
  {
   "cell_type": "code",
   "execution_count": null,
   "metadata": {
    "collapsed": true
   },
   "outputs": [],
   "source": []
  }
 ],
 "metadata": {
  "anaconda-cloud": {},
  "kernelspec": {
   "display_name": "Python [Root]",
   "language": "python",
   "name": "Python [Root]"
  },
  "language_info": {
   "codemirror_mode": {
    "name": "ipython",
    "version": 2
   },
   "file_extension": ".py",
   "mimetype": "text/x-python",
   "name": "python",
   "nbconvert_exporter": "python",
   "pygments_lexer": "ipython2",
   "version": "2.7.12"
  }
 },
 "nbformat": 4,
 "nbformat_minor": 0
}
